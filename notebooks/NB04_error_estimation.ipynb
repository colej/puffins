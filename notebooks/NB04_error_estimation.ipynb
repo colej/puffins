{
 "cells": [
  {
   "cell_type": "markdown",
   "id": "9cfd306b",
   "metadata": {},
   "source": [
    "# __Puffins__\n",
    "\n",
    "## NB 04 - Estimating uncertainties and standard errors on model terms"
   ]
  },
  {
   "cell_type": "markdown",
   "id": "ad460f5c",
   "metadata": {},
   "source": [
    "So far, we've seen how to model some (time-series) data with a feature-embedded and feature-weighted regression model using __puffins__. We've seen how different types of regression models perform on the same data, and we've also see how to tune the hyper-parameters of our model. \n",
    "\n",
    "Now, in this notebook, we're going to look at three different methods for assessing the uncertainties and standard errors on the terms in our models."
   ]
  },
  {
   "cell_type": "code",
   "execution_count": 1,
   "id": "314e57f7",
   "metadata": {},
   "outputs": [],
   "source": [
    "%matplotlib widget\n",
    "import numpy as np\n",
    "import matplotlib.pyplot as plt\n",
    "\n",
    "from puffins.tuner import Tuner\n",
    "from puffins.weight_functions import matern32\n",
    "from puffins.data import TimeSeries,LinearModel\n",
    "from puffins.uncertainties import UncertaintyEstimator\n",
    "from puffins.basis_functions import basis_constant, basis_linear\n",
    "\n",
    "np.random.seed(42) # to enforce reproducibility\n",
    "RCOND = 1e-14 # numerical rounding for matrix conditioning\n",
    "plotnum=1"
   ]
  },
  {
   "cell_type": "markdown",
   "id": "366a5e78",
   "metadata": {},
   "source": [
    "## Instantiate the data and model classes"
   ]
  },
  {
   "cell_type": "code",
   "execution_count": 2,
   "id": "0f315df7",
   "metadata": {},
   "outputs": [],
   "source": [
    "time, flux = np.loadtxt('../data/ugru.dat').T\n",
    "flux_err = np.random.normal(0,0.005,len(flux))\n",
    "period = 1.88045\n",
    "n_harmonics = 100\n",
    "feature_weighting_width = 0.5"
   ]
  },
  {
   "cell_type": "markdown",
   "id": "cec6a699",
   "metadata": {},
   "source": [
    "## Parameter tuning\n",
    "\n",
    "As we saw in the last notebook, the difference between randomly chosen and optimised parameters can be very stark on the resulting model. Therefore, we want to make sure that our model is as good a representation of the data as possible before we start to estimate the model uncertaintes. "
   ]
  },
  {
   "cell_type": "code",
   "execution_count": 3,
   "id": "147aec79",
   "metadata": {},
   "outputs": [],
   "source": [
    "data = TimeSeries(time, flux)\n",
    "fwls = LinearModel('fw', basis_functions=[basis_constant,], feature_embedding='fourier', \n",
    "                   feature_weighting_function=matern32, feature_weighting_width=feature_weighting_width,\n",
    "                   period=period, n_harmonics=100, W=None)"
   ]
  },
  {
   "cell_type": "code",
   "execution_count": 4,
   "id": "70daa885",
   "metadata": {},
   "outputs": [
    {
     "name": "stderr",
     "output_type": "stream",
     "text": [
      "[I 2025-02-05 22:15:33,995] A new study created in memory with name: no-name-4d324ebe-6aed-4eb2-b5b4-59dbd31a370b\n",
      "[I 2025-02-05 22:15:34,071] Trial 0 finished with value: 0.0036536533316739277 and parameters: {'feature_weighting_width': 0.15481550834952956, 'period': 1.8880282489191338}. Best is trial 0 with value: 0.0036536533316739277.\n",
      "[I 2025-02-05 22:15:34,129] Trial 1 finished with value: 0.00748685431696093 and parameters: {'feature_weighting_width': 0.7863682675486902, 'period': 1.8775760920966242}. Best is trial 0 with value: 0.0036536533316739277.\n",
      "[I 2025-02-05 22:15:34,179] Trial 2 finished with value: 0.004952971786233356 and parameters: {'feature_weighting_width': 0.6254152283775828, 'period': 1.8767788195204493}. Best is trial 0 with value: 0.0036536533316739277.\n",
      "[I 2025-02-05 22:15:34,227] Trial 3 finished with value: 0.002095345949152723 and parameters: {'feature_weighting_width': 0.4794724784484719, 'period': 1.879346831352267}. Best is trial 3 with value: 0.002095345949152723.\n",
      "[I 2025-02-05 22:15:34,274] Trial 4 finished with value: 0.004509704422393372 and parameters: {'feature_weighting_width': 0.20715784257845157, 'period': 1.8719668295795988}. Best is trial 3 with value: 0.002095345949152723.\n",
      "[I 2025-02-05 22:15:34,323] Trial 5 finished with value: 0.005349804899852868 and parameters: {'feature_weighting_width': 0.6769787580510719, 'period': 1.8791058091553186}. Best is trial 3 with value: 0.002095345949152723.\n",
      "[I 2025-02-05 22:15:34,376] Trial 6 finished with value: 0.004642474990395426 and parameters: {'feature_weighting_width': 0.519126055708101, 'period': 1.874039440347898}. Best is trial 3 with value: 0.002095345949152723.\n",
      "[I 2025-02-05 22:15:34,434] Trial 7 finished with value: 0.0018722917833068513 and parameters: {'feature_weighting_width': 0.23435618743330036, 'period': 1.8753159181457308}. Best is trial 7 with value: 0.0018722917833068513.\n",
      "[I 2025-02-05 22:15:34,492] Trial 8 finished with value: 0.00258680410615438 and parameters: {'feature_weighting_width': 0.08468991851383344, 'period': 1.886708162897165}. Best is trial 7 with value: 0.0018722917833068513.\n",
      "[I 2025-02-05 22:15:34,557] Trial 9 finished with value: 0.00818112369451067 and parameters: {'feature_weighting_width': 0.6245066573763581, 'period': 1.8704886257930315}. Best is trial 7 with value: 0.0018722917833068513.\n",
      "[I 2025-02-05 22:15:34,624] Trial 10 finished with value: 0.0010798203316662565 and parameters: {'feature_weighting_width': 0.3420772272183756, 'period': 1.8833458757150736}. Best is trial 10 with value: 0.0010798203316662565.\n",
      "[I 2025-02-05 22:15:34,682] Trial 11 finished with value: 0.0012882208966615303 and parameters: {'feature_weighting_width': 0.3403258867002243, 'period': 1.883894659492934}. Best is trial 10 with value: 0.0010798203316662565.\n",
      "[I 2025-02-05 22:15:34,738] Trial 12 finished with value: 0.0015657436532001978 and parameters: {'feature_weighting_width': 0.3840659527842338, 'period': 1.883779895973717}. Best is trial 10 with value: 0.0010798203316662565.\n",
      "[I 2025-02-05 22:15:34,798] Trial 13 finished with value: 0.010402164801083367 and parameters: {'feature_weighting_width': 0.9717550553325952, 'period': 1.8827868583025245}. Best is trial 10 with value: 0.0010798203316662565.\n",
      "[I 2025-02-05 22:15:34,866] Trial 14 finished with value: 0.0008664817325163656 and parameters: {'feature_weighting_width': 0.33642334417352104, 'period': 1.8828199340473217}. Best is trial 14 with value: 0.0008664817325163656.\n",
      "[I 2025-02-05 22:15:34,930] Trial 15 finished with value: 0.0011645823989530298 and parameters: {'feature_weighting_width': 0.4030365713123059, 'period': 1.8816534222441665}. Best is trial 14 with value: 0.0008664817325163656.\n",
      "[I 2025-02-05 22:15:34,976] Trial 16 finished with value: 0.002131778739217604 and parameters: {'feature_weighting_width': 0.28250754463611116, 'period': 1.8858832502583711}. Best is trial 14 with value: 0.0008664817325163656.\n",
      "[I 2025-02-05 22:15:35,045] Trial 17 finished with value: 1.8232675573373225e-05 and parameters: {'feature_weighting_width': 0.009748686078426605, 'period': 1.8808676615304936}. Best is trial 17 with value: 1.8232675573373225e-05.\n",
      "[I 2025-02-05 22:15:35,113] Trial 18 finished with value: 0.004815106754508266 and parameters: {'feature_weighting_width': 0.08091591101155837, 'period': 1.8893395137361064}. Best is trial 17 with value: 1.8232675573373225e-05.\n",
      "[I 2025-02-05 22:15:35,174] Trial 19 finished with value: 1.0268995772781201e-05 and parameters: {'feature_weighting_width': 0.0024962426717874044, 'period': 1.8806935942585534}. Best is trial 19 with value: 1.0268995772781201e-05.\n",
      "[I 2025-02-05 22:15:35,253] Trial 20 finished with value: 7.664970475473683e-06 and parameters: {'feature_weighting_width': 0.002284923029505426, 'period': 1.8805919669167679}. Best is trial 20 with value: 7.664970475473683e-06.\n",
      "[I 2025-02-05 22:15:35,304] Trial 21 finished with value: 7.42601860026355e-06 and parameters: {'feature_weighting_width': 0.027753997897977216, 'period': 1.8805766507838746}. Best is trial 21 with value: 7.42601860026355e-06.\n",
      "[I 2025-02-05 22:15:35,368] Trial 22 finished with value: 0.000366939280134602 and parameters: {'feature_weighting_width': 0.005118810555228596, 'period': 1.8782302509792843}. Best is trial 21 with value: 7.42601860026355e-06.\n",
      "[I 2025-02-05 22:15:35,425] Trial 23 finished with value: 1.8795580407640087e-05 and parameters: {'feature_weighting_width': 0.12761459243567536, 'period': 1.8807907189824944}. Best is trial 21 with value: 7.42601860026355e-06.\n",
      "[I 2025-02-05 22:15:35,475] Trial 24 finished with value: 0.0013610409625536464 and parameters: {'feature_weighting_width': 0.019929870402506086, 'period': 1.87605196623207}. Best is trial 21 with value: 7.42601860026355e-06.\n",
      "[I 2025-02-05 22:15:35,522] Trial 25 finished with value: 0.0015141053408781633 and parameters: {'feature_weighting_width': 0.17747050865708336, 'period': 1.88513039012604}. Best is trial 21 with value: 7.42601860026355e-06.\n",
      "[I 2025-02-05 22:15:35,575] Trial 26 finished with value: 2.7621137970696332e-05 and parameters: {'feature_weighting_width': 0.0743069442620473, 'period': 1.8799396318997061}. Best is trial 21 with value: 7.42601860026355e-06.\n",
      "[I 2025-02-05 22:15:35,637] Trial 27 finished with value: 0.00026010352306274045 and parameters: {'feature_weighting_width': 0.24652364461216564, 'period': 1.881900086838601}. Best is trial 21 with value: 7.42601860026355e-06.\n",
      "[I 2025-02-05 22:15:35,701] Trial 28 finished with value: 0.0023544141025854753 and parameters: {'feature_weighting_width': 0.10583942845158889, 'period': 1.8745533988589418}. Best is trial 21 with value: 7.42601860026355e-06.\n",
      "[I 2025-02-05 22:15:35,763] Trial 29 finished with value: 0.002902129472828862 and parameters: {'feature_weighting_width': 0.1553755520425701, 'period': 1.8871125792959134}. Best is trial 21 with value: 7.42601860026355e-06.\n",
      "[I 2025-02-05 22:15:35,833] Trial 30 finished with value: 0.00039258385092626007 and parameters: {'feature_weighting_width': 0.04984992006925164, 'period': 1.8781511577496153}. Best is trial 21 with value: 7.42601860026355e-06.\n",
      "[I 2025-02-05 22:15:35,887] Trial 31 finished with value: 5.224275821411958e-05 and parameters: {'feature_weighting_width': 0.023846923460083526, 'period': 1.881259254366795}. Best is trial 21 with value: 7.42601860026355e-06.\n",
      "[I 2025-02-05 22:15:35,941] Trial 32 finished with value: 1.1994369520095785e-05 and parameters: {'feature_weighting_width': 0.0025387924616429567, 'period': 1.8801944614090573}. Best is trial 21 with value: 7.42601860026355e-06.\n",
      "[I 2025-02-05 22:15:35,998] Trial 33 finished with value: 0.0009634124175906646 and parameters: {'feature_weighting_width': 0.1462154273109942, 'period': 1.8767916077135778}. Best is trial 21 with value: 7.42601860026355e-06.\n",
      "[I 2025-02-05 22:15:36,075] Trial 34 finished with value: 0.00862013603620903 and parameters: {'feature_weighting_width': 0.868096511270185, 'period': 1.8798676183366152}. Best is trial 21 with value: 7.42601860026355e-06.\n",
      "[I 2025-02-05 22:15:36,156] Trial 35 finished with value: 0.00020430300531771117 and parameters: {'feature_weighting_width': 0.18498301678966103, 'period': 1.8789218474431264}. Best is trial 21 with value: 7.42601860026355e-06.\n",
      "[I 2025-02-05 22:15:36,233] Trial 36 finished with value: 0.0005247811942490182 and parameters: {'feature_weighting_width': 0.11705523481764006, 'period': 1.8777813326368986}. Best is trial 21 with value: 7.42601860026355e-06.\n",
      "[I 2025-02-05 22:15:36,286] Trial 37 finished with value: 0.001128339886783686 and parameters: {'feature_weighting_width': 0.0031752069832263895, 'period': 1.8844771577671333}. Best is trial 21 with value: 7.42601860026355e-06.\n",
      "[I 2025-02-05 22:15:36,344] Trial 38 finished with value: 0.00035218722670186226 and parameters: {'feature_weighting_width': 0.26298868338339065, 'period': 1.882138401740551}. Best is trial 21 with value: 7.42601860026355e-06.\n",
      "[I 2025-02-05 22:15:36,396] Trial 39 finished with value: 7.009938209978495e-06 and parameters: {'feature_weighting_width': 0.058450096207639565, 'period': 1.880450632651759}. Best is trial 39 with value: 7.009938209978495e-06.\n",
      "[I 2025-02-05 22:15:36,458] Trial 40 finished with value: 0.0019259960770881767 and parameters: {'feature_weighting_width': 0.46994871628624946, 'period': 1.879706159002684}. Best is trial 39 with value: 7.009938209978495e-06.\n",
      "[I 2025-02-05 22:15:36,528] Trial 41 finished with value: 0.0002134797792320698 and parameters: {'feature_weighting_width': 0.06620296596613304, 'period': 1.8787785084477964}. Best is trial 39 with value: 7.009938209978495e-06.\n",
      "[I 2025-02-05 22:15:36,591] Trial 42 finished with value: 7.423104477045544e-06 and parameters: {'feature_weighting_width': 0.05985126247692521, 'period': 1.8805425470041208}. Best is trial 39 with value: 7.009938209978495e-06.\n",
      "[I 2025-02-05 22:15:36,662] Trial 43 finished with value: 6.858584616020486e-05 and parameters: {'feature_weighting_width': 0.21601255524217916, 'period': 1.8807355847294718}. Best is trial 39 with value: 7.009938209978495e-06.\n",
      "[I 2025-02-05 22:15:36,738] Trial 44 finished with value: 0.00032237546809553604 and parameters: {'feature_weighting_width': 0.06481911560496267, 'period': 1.882562623978286}. Best is trial 39 with value: 7.009938209978495e-06.\n",
      "[I 2025-02-05 22:15:36,868] Trial 45 finished with value: 0.006250981837438608 and parameters: {'feature_weighting_width': 0.7104826137537308, 'period': 1.8772798725653663}. Best is trial 39 with value: 7.009938209978495e-06.\n",
      "[I 2025-02-05 22:15:37,012] Trial 46 finished with value: 0.00017136882614826243 and parameters: {'feature_weighting_width': 0.11774599717721079, 'period': 1.8789722161847737}. Best is trial 39 with value: 7.009938209978495e-06.\n",
      "[I 2025-02-05 22:15:37,106] Trial 47 finished with value: 0.003786845825352223 and parameters: {'feature_weighting_width': 0.5888415038118822, 'period': 1.8815573613402785}. Best is trial 39 with value: 7.009938209978495e-06.\n",
      "[I 2025-02-05 22:15:37,196] Trial 48 finished with value: 0.0013731298080889034 and parameters: {'feature_weighting_width': 0.049210776701333545, 'period': 1.876031600765513}. Best is trial 39 with value: 7.009938209978495e-06.\n",
      "[I 2025-02-05 22:15:37,265] Trial 49 finished with value: 0.0005400782530238406 and parameters: {'feature_weighting_width': 0.1963472386357197, 'period': 1.8831282993852116}. Best is trial 39 with value: 7.009938209978495e-06.\n",
      "[I 2025-02-05 22:15:37,329] Trial 50 finished with value: 1.725882165384034e-05 and parameters: {'feature_weighting_width': 0.15176881501383188, 'period': 1.880413817764007}. Best is trial 39 with value: 7.009938209978495e-06.\n",
      "[I 2025-02-05 22:15:37,391] Trial 51 finished with value: 7.611830614015776e-05 and parameters: {'feature_weighting_width': 0.04639523123505169, 'period': 1.8794917701627152}. Best is trial 39 with value: 7.009938209978495e-06.\n",
      "[I 2025-02-05 22:15:37,455] Trial 52 finished with value: 8.675052274945153e-06 and parameters: {'feature_weighting_width': 0.08713704728426597, 'period': 1.8803522643783077}. Best is trial 39 with value: 7.009938209978495e-06.\n",
      "[I 2025-02-05 22:15:37,523] Trial 53 finished with value: 6.324118907074693e-05 and parameters: {'feature_weighting_width': 0.09914531414577632, 'period': 1.8813390984579645}. Best is trial 39 with value: 7.009938209978495e-06.\n",
      "[I 2025-02-05 22:15:37,587] Trial 54 finished with value: 0.00114952953565611 and parameters: {'feature_weighting_width': 0.302839793453586, 'period': 1.884022039364811}. Best is trial 39 with value: 7.009938209978495e-06.\n",
      "[I 2025-02-05 22:15:37,651] Trial 55 finished with value: 0.00023248659844738497 and parameters: {'feature_weighting_width': 0.0937972900995448, 'period': 1.8822337534807119}. Best is trial 39 with value: 7.009938209978495e-06.\n",
      "[I 2025-02-05 22:15:37,746] Trial 56 finished with value: 0.004091553851010832 and parameters: {'feature_weighting_width': 0.042247098572695846, 'period': 1.8724203275835074}. Best is trial 39 with value: 7.009938209978495e-06.\n",
      "[I 2025-02-05 22:15:37,805] Trial 57 finished with value: 0.00032159983396903526 and parameters: {'feature_weighting_width': 0.17058762510913633, 'period': 1.878429150679229}. Best is trial 39 with value: 7.009938209978495e-06.\n",
      "[I 2025-02-05 22:15:37,871] Trial 58 finished with value: 1.645489623608715e-05 and parameters: {'feature_weighting_width': 0.1301357694534252, 'period': 1.880724579458664}. Best is trial 39 with value: 7.009938209978495e-06.\n",
      "[I 2025-02-05 22:15:37,947] Trial 59 finished with value: 0.0006082545828048275 and parameters: {'feature_weighting_width': 0.07480402221953734, 'period': 1.8833758821776319}. Best is trial 39 with value: 7.009938209978495e-06.\n",
      "[I 2025-02-05 22:15:37,996] Trial 60 finished with value: 0.0016459385884909782 and parameters: {'feature_weighting_width': 0.21435900139831934, 'period': 1.885309936010636}. Best is trial 39 with value: 7.009938209978495e-06.\n",
      "[I 2025-02-05 22:15:38,068] Trial 61 finished with value: 3.522190790396982e-05 and parameters: {'feature_weighting_width': 0.003675479063477415, 'period': 1.879841142242217}. Best is trial 39 with value: 7.009938209978495e-06.\n",
      "[I 2025-02-05 22:15:38,557] Trial 62 finished with value: 1.2059841003633336e-05 and parameters: {'feature_weighting_width': 0.031529301786469247, 'period': 1.8801939101736431}. Best is trial 39 with value: 7.009938209978495e-06.\n",
      "[I 2025-02-05 22:15:38,622] Trial 63 finished with value: 0.00011367159298864407 and parameters: {'feature_weighting_width': 0.0898135227816628, 'period': 1.8792591474233566}. Best is trial 39 with value: 7.009938209978495e-06.\n",
      "[I 2025-02-05 22:15:38,692] Trial 64 finished with value: 8.912187799048141e-05 and parameters: {'feature_weighting_width': 0.03899994078398888, 'period': 1.8815326906601944}. Best is trial 39 with value: 7.009938209978495e-06.\n",
      "[I 2025-02-05 22:15:38,762] Trial 65 finished with value: 1.2070538657525681e-05 and parameters: {'feature_weighting_width': 0.1313808607460339, 'period': 1.8804224822816522}. Best is trial 39 with value: 7.009938209978495e-06.\n",
      "[I 2025-02-05 22:15:38,848] Trial 66 finished with value: 0.0001632025062607241 and parameters: {'feature_weighting_width': 0.006229281641184026, 'period': 1.881937949139302}. Best is trial 39 with value: 7.009938209978495e-06.\n",
      "[I 2025-02-05 22:15:38,917] Trial 67 finished with value: 0.0006675693904730613 and parameters: {'feature_weighting_width': 0.07269032182866612, 'period': 1.8774210243207654}. Best is trial 39 with value: 7.009938209978495e-06.\n",
      "[I 2025-02-05 22:15:39,069] Trial 68 finished with value: 0.0003672485954772263 and parameters: {'feature_weighting_width': 0.03464714549492936, 'period': 1.8827089625021876}. Best is trial 39 with value: 7.009938209978495e-06.\n",
      "[I 2025-02-05 22:15:39,140] Trial 69 finished with value: 0.00041100591497636576 and parameters: {'feature_weighting_width': 0.10109874787346709, 'period': 1.8780980278750246}. Best is trial 39 with value: 7.009938209978495e-06.\n",
      "[I 2025-02-05 22:15:39,220] Trial 70 finished with value: 0.0013699348422388377 and parameters: {'feature_weighting_width': 0.4276114932536322, 'period': 1.8810114867284444}. Best is trial 39 with value: 7.009938209978495e-06.\n",
      "[I 2025-02-05 22:15:39,297] Trial 71 finished with value: 1.227669988102219e-05 and parameters: {'feature_weighting_width': 0.03790865838988782, 'period': 1.8801900360318178}. Best is trial 39 with value: 7.009938209978495e-06.\n",
      "[I 2025-02-05 22:15:39,381] Trial 72 finished with value: 9.039518575567373e-05 and parameters: {'feature_weighting_width': 0.004741871472121781, 'period': 1.8793949744606766}. Best is trial 39 with value: 7.009938209978495e-06.\n",
      "[I 2025-02-05 22:15:39,462] Trial 73 finished with value: 8.535710161903081e-06 and parameters: {'feature_weighting_width': 0.06527307842522709, 'period': 1.8803286119405138}. Best is trial 39 with value: 7.009938209978495e-06.\n",
      "[I 2025-02-05 22:15:39,541] Trial 74 finished with value: 4.995219914495193e-05 and parameters: {'feature_weighting_width': 0.15901146559123489, 'period': 1.8811171948618761}. Best is trial 39 with value: 7.009938209978495e-06.\n",
      "[I 2025-02-05 22:15:39,627] Trial 75 finished with value: 0.010686437757936002 and parameters: {'feature_weighting_width': 0.9931589276563694, 'period': 1.8788549565747799}. Best is trial 39 with value: 7.009938209978495e-06.\n",
      "[I 2025-02-05 22:15:39,700] Trial 76 finished with value: 7.396187643589159e-06 and parameters: {'feature_weighting_width': 0.07706820990339978, 'period': 1.880462071055153}. Best is trial 39 with value: 7.009938209978495e-06.\n",
      "[I 2025-02-05 22:15:39,762] Trial 77 finished with value: 0.00021348155935489737 and parameters: {'feature_weighting_width': 0.06405097000714999, 'period': 1.8821590377851518}. Best is trial 39 with value: 7.009938209978495e-06.\n",
      "[I 2025-02-05 22:15:39,849] Trial 78 finished with value: 1.4271132820624947e-05 and parameters: {'feature_weighting_width': 0.12905972815655609, 'period': 1.8806636287543859}. Best is trial 39 with value: 7.009938209978495e-06.\n",
      "[I 2025-02-05 22:15:39,943] Trial 79 finished with value: 0.008909847657960912 and parameters: {'feature_weighting_width': 0.8797848505753998, 'period': 1.8785511427324568}. Best is trial 39 with value: 7.009938209978495e-06.\n",
      "[I 2025-02-05 22:15:40,020] Trial 80 finished with value: 0.00014528270740461288 and parameters: {'feature_weighting_width': 0.23799018403007344, 'period': 1.8796596419081273}. Best is trial 39 with value: 7.009938209978495e-06.\n",
      "[I 2025-02-05 22:15:40,087] Trial 81 finished with value: 1.317092716416414e-05 and parameters: {'feature_weighting_width': 0.06316500523881752, 'period': 1.8801786725690168}. Best is trial 39 with value: 7.009938209978495e-06.\n",
      "[I 2025-02-05 22:15:40,153] Trial 82 finished with value: 0.00013832310747151962 and parameters: {'feature_weighting_width': 0.09686085998973767, 'period': 1.8791266456651838}. Best is trial 39 with value: 7.009938209978495e-06.\n",
      "[I 2025-02-05 22:15:40,224] Trial 83 finished with value: 0.0001066065448193885 and parameters: {'feature_weighting_width': 0.01861522058094634, 'period': 1.8816409470350248}. Best is trial 39 with value: 7.009938209978495e-06.\n",
      "[I 2025-02-05 22:15:40,293] Trial 84 finished with value: 4.3995568748398795e-05 and parameters: {'feature_weighting_width': 0.11220812950692344, 'period': 1.8811604497451848}. Best is trial 39 with value: 7.009938209978495e-06.\n",
      "[I 2025-02-05 22:15:40,358] Trial 85 finished with value: 0.00279335614148685 and parameters: {'feature_weighting_width': 0.5301355880909473, 'period': 1.879920993230465}. Best is trial 39 with value: 7.009938209978495e-06.\n",
      "[I 2025-02-05 22:15:40,412] Trial 86 finished with value: 0.00034733841661965266 and parameters: {'feature_weighting_width': 0.057818916311209285, 'period': 1.8826451367269412}. Best is trial 39 with value: 7.009938209978495e-06.\n",
      "[I 2025-02-05 22:15:40,465] Trial 87 finished with value: 0.0009391171707010479 and parameters: {'feature_weighting_width': 0.18127273857196743, 'period': 1.8768627621077167}. Best is trial 39 with value: 7.009938209978495e-06.\n",
      "[I 2025-02-05 22:15:40,529] Trial 88 finished with value: 0.0004675455783065032 and parameters: {'feature_weighting_width': 0.024211702953027353, 'period': 1.8779322082357295}. Best is trial 39 with value: 7.009938209978495e-06.\n",
      "[I 2025-02-05 22:15:40,595] Trial 89 finished with value: 7.90283752136092e-06 and parameters: {'feature_weighting_width': 0.0817960856736054, 'period': 1.8805399274845056}. Best is trial 39 with value: 7.009938209978495e-06.\n",
      "[I 2025-02-05 22:15:40,652] Trial 90 finished with value: 1.6189789137371595e-05 and parameters: {'feature_weighting_width': 0.08387136352357068, 'period': 1.8808119165159998}. Best is trial 39 with value: 7.009938209978495e-06.\n",
      "[I 2025-02-05 22:15:40,704] Trial 91 finished with value: 7.987199189396984e-05 and parameters: {'feature_weighting_width': 0.13822723847953744, 'period': 1.8795084793490004}. Best is trial 39 with value: 7.009938209978495e-06.\n",
      "[I 2025-02-05 22:15:40,754] Trial 92 finished with value: 7.140574431888576e-06 and parameters: {'feature_weighting_width': 0.053941073292881475, 'period': 1.8804106716322988}. Best is trial 39 with value: 7.009938209978495e-06.\n",
      "[I 2025-02-05 22:15:40,820] Trial 93 finished with value: 0.0001306396959759066 and parameters: {'feature_weighting_width': 0.052136646338080114, 'period': 1.881774595518328}. Best is trial 39 with value: 7.009938209978495e-06.\n",
      "[I 2025-02-05 22:15:40,945] Trial 94 finished with value: 7.66799488825393e-06 and parameters: {'feature_weighting_width': 0.08132423486619272, 'period': 1.880514277724714}. Best is trial 39 with value: 7.009938209978495e-06.\n",
      "[I 2025-02-05 22:15:41,028] Trial 95 finished with value: 1.7577680946240277e-05 and parameters: {'feature_weighting_width': 0.15331022642329434, 'period': 1.8804860563278785}. Best is trial 39 with value: 7.009938209978495e-06.\n",
      "[I 2025-02-05 22:15:41,085] Trial 96 finished with value: 5.473719546867759e-05 and parameters: {'feature_weighting_width': 0.1176271785681284, 'period': 1.8812555636285766}. Best is trial 39 with value: 7.009938209978495e-06.\n",
      "[I 2025-02-05 22:15:41,177] Trial 97 finished with value: 0.0002881939093462146 and parameters: {'feature_weighting_width': 0.0816024014880674, 'period': 1.8824438231118417}. Best is trial 39 with value: 7.009938209978495e-06.\n",
      "[I 2025-02-05 22:15:41,296] Trial 98 finished with value: 0.0005346595151273379 and parameters: {'feature_weighting_width': 0.028981064525494434, 'period': 1.883188757306213}. Best is trial 39 with value: 7.009938209978495e-06.\n",
      "[I 2025-02-05 22:15:41,412] Trial 99 finished with value: 0.0002587645435719676 and parameters: {'feature_weighting_width': 0.09094980121571197, 'period': 1.8786023443413065}. Best is trial 39 with value: 7.009938209978495e-06.\n",
      "[I 2025-02-05 22:15:41,552] Trial 100 finished with value: 7.070175312209244e-05 and parameters: {'feature_weighting_width': 0.19895460577443683, 'period': 1.879865164657333}. Best is trial 39 with value: 7.009938209978495e-06.\n",
      "[I 2025-02-05 22:15:41,698] Trial 101 finished with value: 6.8855819880817184e-06 and parameters: {'feature_weighting_width': 0.05169394162305636, 'period': 1.8804857728438906}. Best is trial 101 with value: 6.8855819880817184e-06.\n",
      "[I 2025-02-05 22:15:41,762] Trial 102 finished with value: 7.231338653242883e-06 and parameters: {'feature_weighting_width': 0.06639451571588413, 'period': 1.8804339112525492}. Best is trial 101 with value: 6.8855819880817184e-06.\n",
      "[I 2025-02-05 22:15:41,819] Trial 103 finished with value: 0.00012519220389017857 and parameters: {'feature_weighting_width': 0.059127408112213384, 'period': 1.8791916759590555}. Best is trial 101 with value: 6.8855819880817184e-06.\n",
      "[I 2025-02-05 22:15:41,879] Trial 104 finished with value: 7.899365144220062e-05 and parameters: {'feature_weighting_width': 0.11642047946062761, 'period': 1.8814468364289398}. Best is trial 101 with value: 6.8855819880817184e-06.\n",
      "[I 2025-02-05 22:15:41,940] Trial 105 finished with value: 8.042754473522403e-06 and parameters: {'feature_weighting_width': 0.023918399035247465, 'period': 1.8806108081329447}. Best is trial 101 with value: 6.8855819880817184e-06.\n",
      "[I 2025-02-05 22:15:42,012] Trial 106 finished with value: 0.00485165622094511 and parameters: {'feature_weighting_width': 0.025113203879056887, 'period': 1.8893795347103624}. Best is trial 101 with value: 6.8855819880817184e-06.\n",
      "[I 2025-02-05 22:15:42,088] Trial 107 finished with value: 0.0054130313307980205 and parameters: {'feature_weighting_width': 0.02240982598527913, 'period': 1.8899819743021469}. Best is trial 101 with value: 6.8855819880817184e-06.\n",
      "[I 2025-02-05 22:15:42,195] Trial 108 finished with value: 0.00014426656529982148 and parameters: {'feature_weighting_width': 0.043627342600532304, 'period': 1.8818453224029397}. Best is trial 101 with value: 6.8855819880817184e-06.\n",
      "[I 2025-02-05 22:15:42,288] Trial 109 finished with value: 0.005618103541931778 and parameters: {'feature_weighting_width': 0.6961137426540474, 'period': 1.8809044537408166}. Best is trial 101 with value: 6.8855819880817184e-06.\n",
      "[I 2025-02-05 22:15:42,402] Trial 110 finished with value: 3.783640623761129e-05 and parameters: {'feature_weighting_width': 0.16553388454357584, 'period': 1.880932152683447}. Best is trial 101 with value: 6.8855819880817184e-06.\n",
      "[I 2025-02-05 22:15:42,454] Trial 111 finished with value: 7.310914990577396e-06 and parameters: {'feature_weighting_width': 0.0725720070530904, 'period': 1.8804873415160013}. Best is trial 101 with value: 6.8855819880817184e-06.\n",
      "[I 2025-02-05 22:15:42,514] Trial 112 finished with value: 3.6319189847739216e-05 and parameters: {'feature_weighting_width': 0.10241176123065979, 'period': 1.8798484682548677}. Best is trial 101 with value: 6.8855819880817184e-06.\n",
      "[I 2025-02-05 22:15:42,570] Trial 113 finished with value: 8.029041183881674e-06 and parameters: {'feature_weighting_width': 0.07800492033597312, 'period': 1.880559520647805}. Best is trial 101 with value: 6.8855819880817184e-06.\n",
      "[I 2025-02-05 22:15:42,635] Trial 114 finished with value: 6.982355546017326e-05 and parameters: {'feature_weighting_width': 0.07619821919246575, 'period': 1.8813957843119578}. Best is trial 101 with value: 6.8855819880817184e-06.\n",
      "[I 2025-02-05 22:15:42,699] Trial 115 finished with value: 8.31607833756838e-05 and parameters: {'feature_weighting_width': 0.13358874216324684, 'period': 1.8794783000103799}. Best is trial 101 with value: 6.8855819880817184e-06.\n",
      "[I 2025-02-05 22:15:42,767] Trial 116 finished with value: 1.398710409383012e-05 and parameters: {'feature_weighting_width': 0.04993218651043762, 'period': 1.880154513822718}. Best is trial 101 with value: 6.8855819880817184e-06.\n",
      "[I 2025-02-05 22:15:42,840] Trial 117 finished with value: 0.00017354176101669455 and parameters: {'feature_weighting_width': 0.10450215287793344, 'period': 1.8819802251062994}. Best is trial 101 with value: 6.8855819880817184e-06.\n",
      "[I 2025-02-05 22:15:42,921] Trial 118 finished with value: 0.00017198258158109618 and parameters: {'feature_weighting_width': 0.08391781833349221, 'period': 1.8789603802856294}. Best is trial 101 with value: 6.8855819880817184e-06.\n",
      "[I 2025-02-05 22:15:43,000] Trial 119 finished with value: 8.137292275247114e-06 and parameters: {'feature_weighting_width': 0.04875678467496484, 'period': 1.8806025974860512}. Best is trial 101 with value: 6.8855819880817184e-06.\n",
      "[I 2025-02-05 22:15:43,073] Trial 120 finished with value: 3.7680807179887076e-05 and parameters: {'feature_weighting_width': 0.07147803574192942, 'period': 1.8811149091162642}. Best is trial 101 with value: 6.8855819880817184e-06.\n",
      "[I 2025-02-05 22:15:43,127] Trial 121 finished with value: 6.537396259817259e-06 and parameters: {'feature_weighting_width': 0.004640054697575335, 'period': 1.8804605694243643}. Best is trial 121 with value: 6.537396259817259e-06.\n",
      "[I 2025-02-05 22:15:43,193] Trial 122 finished with value: 1.5240263099731518e-05 and parameters: {'feature_weighting_width': 0.0015454297123365154, 'period': 1.8801226738808743}. Best is trial 121 with value: 6.537396259817259e-06.\n",
      "[I 2025-02-05 22:15:43,292] Trial 123 finished with value: 3.7692841228652456e-05 and parameters: {'feature_weighting_width': 0.033209711152738484, 'period': 1.8798151199590842}. Best is trial 121 with value: 6.537396259817259e-06.\n",
      "[I 2025-02-05 22:15:43,386] Trial 124 finished with value: 8.473603564636098e-05 and parameters: {'feature_weighting_width': 0.001177825635968091, 'period': 1.8794319471432925}. Best is trial 121 with value: 6.537396259817259e-06.\n",
      "[I 2025-02-05 22:15:43,442] Trial 125 finished with value: 9.15245492702399e-06 and parameters: {'feature_weighting_width': 0.05845168047786053, 'period': 1.8806400904960214}. Best is trial 121 with value: 6.537396259817259e-06.\n",
      "[I 2025-02-05 22:15:43,508] Trial 126 finished with value: 7.539325325233195e-05 and parameters: {'feature_weighting_width': 0.14290215285014587, 'period': 1.881387199534724}. Best is trial 121 with value: 6.537396259817259e-06.\n",
      "[I 2025-02-05 22:15:43,559] Trial 127 finished with value: 0.0002612078413002524 and parameters: {'feature_weighting_width': 0.10850886789769246, 'period': 1.8823415574378661}. Best is trial 121 with value: 6.537396259817259e-06.\n",
      "[I 2025-02-05 22:15:43,635] Trial 128 finished with value: 1.0504844181174234e-05 and parameters: {'feature_weighting_width': 0.0415464752514365, 'period': 1.880239240419129}. Best is trial 121 with value: 6.537396259817259e-06.\n",
      "[I 2025-02-05 22:15:43,799] Trial 129 finished with value: 2.5124102615358446e-05 and parameters: {'feature_weighting_width': 0.08409825585530556, 'period': 1.8809591236881786}. Best is trial 121 with value: 6.537396259817259e-06.\n",
      "[I 2025-02-05 22:15:43,868] Trial 130 finished with value: 0.0007064993269804146 and parameters: {'feature_weighting_width': 0.3193847159661049, 'period': 1.8783289654884665}. Best is trial 121 with value: 6.537396259817259e-06.\n",
      "[I 2025-02-05 22:15:43,930] Trial 131 finished with value: 8.287701041797503e-06 and parameters: {'feature_weighting_width': 0.023050854880352856, 'period': 1.880622143992576}. Best is trial 121 with value: 6.537396259817259e-06.\n",
      "[I 2025-02-05 22:15:44,034] Trial 132 finished with value: 0.00011143473718282885 and parameters: {'feature_weighting_width': 0.017192398179027284, 'period': 1.88166908355953}. Best is trial 121 with value: 6.537396259817259e-06.\n",
      "[I 2025-02-05 22:15:44,137] Trial 133 finished with value: 7.258572875522443e-06 and parameters: {'feature_weighting_width': 0.06551992266132839, 'period': 1.8805099351680843}. Best is trial 121 with value: 6.537396259817259e-06.\n",
      "[I 2025-02-05 22:15:44,207] Trial 134 finished with value: 4.571164400781318e-05 and parameters: {'feature_weighting_width': 0.07023931581004342, 'period': 1.879740405861003}. Best is trial 121 with value: 6.537396259817259e-06.\n",
      "[I 2025-02-05 22:15:44,283] Trial 135 finished with value: 0.0001294826425547655 and parameters: {'feature_weighting_width': 0.053292592155880246, 'period': 1.8791683192196431}. Best is trial 121 with value: 6.537396259817259e-06.\n",
      "[I 2025-02-05 22:15:44,358] Trial 136 finished with value: 0.007057646908753961 and parameters: {'feature_weighting_width': 0.7776661783499281, 'period': 1.8803624890265211}. Best is trial 121 with value: 6.537396259817259e-06.\n",
      "[I 2025-02-05 22:15:44,455] Trial 137 finished with value: 2.866066316872133e-05 and parameters: {'feature_weighting_width': 0.11717489978441029, 'period': 1.88097832170371}. Best is trial 121 with value: 6.537396259817259e-06.\n",
      "[I 2025-02-05 22:15:44,516] Trial 138 finished with value: 2.7128475574615128e-05 and parameters: {'feature_weighting_width': 0.09375521292558575, 'period': 1.8799544747358072}. Best is trial 121 with value: 6.537396259817259e-06.\n",
      "[I 2025-02-05 22:15:44,568] Trial 139 finished with value: 6.937455989697253e-05 and parameters: {'feature_weighting_width': 0.03877020901805393, 'period': 1.8795400590959783}. Best is trial 121 with value: 6.537396259817259e-06.\n",
      "[I 2025-02-05 22:15:44,628] Trial 140 finished with value: 6.627912763011155e-05 and parameters: {'feature_weighting_width': 0.06997587398386655, 'period': 1.8813698884722665}. Best is trial 121 with value: 6.537396259817259e-06.\n",
      "[I 2025-02-05 22:15:44,684] Trial 141 finished with value: 7.2975244362775584e-06 and parameters: {'feature_weighting_width': 0.02103987761463059, 'period': 1.8805695292370468}. Best is trial 121 with value: 6.537396259817259e-06.\n",
      "[I 2025-02-05 22:15:44,755] Trial 142 finished with value: 6.534783630918158e-06 and parameters: {'feature_weighting_width': 0.015975673894171132, 'period': 1.8804699755526824}. Best is trial 142 with value: 6.534783630918158e-06.\n",
      "[I 2025-02-05 22:15:44,817] Trial 143 finished with value: 1.0700549178638386e-05 and parameters: {'feature_weighting_width': 0.01524699563913452, 'period': 1.880229027067549}. Best is trial 142 with value: 6.534783630918158e-06.\n",
      "[I 2025-02-05 22:15:44,881] Trial 144 finished with value: 3.121513155335588e-05 and parameters: {'feature_weighting_width': 0.040513773244112705, 'period': 1.8810476877011055}. Best is trial 142 with value: 6.534783630918158e-06.\n",
      "[I 2025-02-05 22:15:44,936] Trial 145 finished with value: 0.00019288721688698503 and parameters: {'feature_weighting_width': 0.05727240325169118, 'period': 1.8820719749430315}. Best is trial 142 with value: 6.534783630918158e-06.\n",
      "[I 2025-02-05 22:15:45,043] Trial 146 finished with value: 0.0063044557062174435 and parameters: {'feature_weighting_width': 0.017977806307069924, 'period': 1.870051202445162}. Best is trial 142 with value: 6.534783630918158e-06.\n",
      "[I 2025-02-05 22:15:45,123] Trial 147 finished with value: 0.00010738489162208042 and parameters: {'feature_weighting_width': 0.001107526710513796, 'period': 1.8816455304223205}. Best is trial 142 with value: 6.534783630918158e-06.\n",
      "[I 2025-02-05 22:15:45,198] Trial 148 finished with value: 2.3733332276557636e-05 and parameters: {'feature_weighting_width': 0.038645330845181146, 'period': 1.8799840957466842}. Best is trial 142 with value: 6.534783630918158e-06.\n",
      "[I 2025-02-05 22:15:45,267] Trial 149 finished with value: 0.00021698000594463102 and parameters: {'feature_weighting_width': 0.09782055578912273, 'period': 1.878767033345962}. Best is trial 142 with value: 6.534783630918158e-06.\n",
      "[I 2025-02-05 22:15:45,325] Trial 150 finished with value: 7.2285612593481575e-06 and parameters: {'feature_weighting_width': 0.059882370263451765, 'period': 1.880521743477661}. Best is trial 142 with value: 6.534783630918158e-06.\n",
      "[I 2025-02-05 22:15:45,448] Trial 151 finished with value: 7.167075983290831e-06 and parameters: {'feature_weighting_width': 0.060751431739637596, 'period': 1.880510620402095}. Best is trial 142 with value: 6.534783630918158e-06.\n",
      "[I 2025-02-05 22:15:45,548] Trial 152 finished with value: 2.070641277314589e-05 and parameters: {'feature_weighting_width': 0.05781639540564332, 'period': 1.880901976672412}. Best is trial 142 with value: 6.534783630918158e-06.\n",
      "[I 2025-02-05 22:15:45,637] Trial 153 finished with value: 6.056245486054933e-05 and parameters: {'feature_weighting_width': 0.02871880393241427, 'period': 1.8796074285258857}. Best is trial 142 with value: 6.534783630918158e-06.\n",
      "[I 2025-02-05 22:15:45,720] Trial 154 finished with value: 7.616179618682295e-06 and parameters: {'feature_weighting_width': 0.048485461038142164, 'period': 1.8803622601406416}. Best is trial 142 with value: 6.534783630918158e-06.\n",
      "[I 2025-02-05 22:15:45,771] Trial 155 finished with value: 1.2537950966497413e-05 and parameters: {'feature_weighting_width': 0.04313209842726601, 'period': 1.880185350445908}. Best is trial 142 with value: 6.534783630918158e-06.\n",
      "[I 2025-02-05 22:15:45,830] Trial 156 finished with value: 5.550408601557858e-05 and parameters: {'feature_weighting_width': 0.02683787793550721, 'period': 1.8812870589774895}. Best is trial 142 with value: 6.534783630918158e-06.\n",
      "[I 2025-02-05 22:15:45,902] Trial 157 finished with value: 0.00010212910377215394 and parameters: {'feature_weighting_width': 0.05953319135062253, 'period': 1.8793234653899853}. Best is trial 142 with value: 6.534783630918158e-06.\n",
      "[I 2025-02-05 22:15:45,972] Trial 158 finished with value: 1.565808055725721e-05 and parameters: {'feature_weighting_width': 0.013406165126717128, 'period': 1.8808208733334753}. Best is trial 142 with value: 6.534783630918158e-06.\n",
      "[I 2025-02-05 22:15:46,037] Trial 159 finished with value: 0.0007672962875284741 and parameters: {'feature_weighting_width': 0.3685068080112187, 'period': 1.8799634272984296}. Best is trial 142 with value: 6.534783630918158e-06.\n",
      "[I 2025-02-05 22:15:46,270] Trial 160 finished with value: 0.004115996169129878 and parameters: {'feature_weighting_width': 0.12204061432558329, 'period': 1.8723932157097587}. Best is trial 142 with value: 6.534783630918158e-06.\n",
      "[I 2025-02-05 22:15:46,346] Trial 161 finished with value: 7.479326849215802e-06 and parameters: {'feature_weighting_width': 0.07670767221612698, 'period': 1.880431768172681}. Best is trial 142 with value: 6.534783630918158e-06.\n",
      "[I 2025-02-05 22:15:46,406] Trial 162 finished with value: 7.391876596508031e-06 and parameters: {'feature_weighting_width': 0.069599279728799, 'period': 1.8804187204744978}. Best is trial 142 with value: 6.534783630918158e-06.\n",
      "[I 2025-02-05 22:15:46,470] Trial 163 finished with value: 1.4903783338608656e-05 and parameters: {'feature_weighting_width': 0.09935380020728972, 'period': 1.8801658228620446}. Best is trial 142 with value: 6.534783630918158e-06.\n",
      "[I 2025-02-05 22:15:46,538] Trial 164 finished with value: 8.901344701458646e-06 and parameters: {'feature_weighting_width': 0.07172358196790338, 'period': 1.880617871242291}. Best is trial 142 with value: 6.534783630918158e-06.\n",
      "[I 2025-02-05 22:15:46,667] Trial 165 finished with value: 4.35920095405808e-05 and parameters: {'feature_weighting_width': 0.051985749026570285, 'period': 1.8811780755512117}. Best is trial 142 with value: 6.534783630918158e-06.\n",
      "[I 2025-02-05 22:15:46,765] Trial 166 finished with value: 0.003468990948489883 and parameters: {'feature_weighting_width': 0.572912057370883, 'period': 1.8803707776676923}. Best is trial 142 with value: 6.534783630918158e-06.\n",
      "[I 2025-02-05 22:15:46,867] Trial 167 finished with value: 6.755257902643164e-05 and parameters: {'feature_weighting_width': 0.08710506908187834, 'period': 1.879559820169755}. Best is trial 142 with value: 6.534783630918158e-06.\n",
      "[I 2025-02-05 22:15:46,939] Trial 168 finished with value: 0.00011829889252302041 and parameters: {'feature_weighting_width': 0.03488039079135709, 'period': 1.8817078964620175}. Best is trial 142 with value: 6.534783630918158e-06.\n",
      "[I 2025-02-05 22:15:47,001] Trial 169 finished with value: 0.00015456017820028231 and parameters: {'feature_weighting_width': 0.062255539335724454, 'period': 1.879041266045159}. Best is trial 142 with value: 6.534783630918158e-06.\n",
      "[I 2025-02-05 22:15:47,083] Trial 170 finished with value: 2.2245981952984604e-05 and parameters: {'feature_weighting_width': 0.11591249709893267, 'period': 1.880884913237945}. Best is trial 142 with value: 6.534783630918158e-06.\n",
      "[I 2025-02-05 22:15:47,156] Trial 171 finished with value: 6.661032649274487e-06 and parameters: {'feature_weighting_width': 0.017643345855042014, 'period': 1.8804261292458888}. Best is trial 142 with value: 6.534783630918158e-06.\n",
      "[I 2025-02-05 22:15:47,223] Trial 172 finished with value: 3.841886859004557e-05 and parameters: {'feature_weighting_width': 0.04240809081451535, 'period': 1.8798084026188189}. Best is trial 142 with value: 6.534783630918158e-06.\n",
      "[I 2025-02-05 22:15:47,291] Trial 173 finished with value: 6.6612529441604455e-06 and parameters: {'feature_weighting_width': 0.021094110819316975, 'period': 1.8804265649520724}. Best is trial 142 with value: 6.534783630918158e-06.\n",
      "[I 2025-02-05 22:15:47,348] Trial 174 finished with value: 4.325877231661285e-05 and parameters: {'feature_weighting_width': 0.0011219920706678557, 'period': 1.8811770318506018}. Best is trial 142 with value: 6.534783630918158e-06.\n",
      "[I 2025-02-05 22:15:47,426] Trial 175 finished with value: 8.850515130135347e-06 and parameters: {'feature_weighting_width': 0.023669642424635214, 'period': 1.8806452570421703}. Best is trial 142 with value: 6.534783630918158e-06.\n",
      "[I 2025-02-05 22:15:47,495] Trial 176 finished with value: 2.458645012067439e-05 and parameters: {'feature_weighting_width': 0.07891866979584464, 'period': 1.8799823559065205}. Best is trial 142 with value: 6.534783630918158e-06.\n",
      "[I 2025-02-05 22:15:47,548] Trial 177 finished with value: 1.428910848414838e-05 and parameters: {'feature_weighting_width': 0.022355683865199732, 'period': 1.880793170962653}. Best is trial 142 with value: 6.534783630918158e-06.\n",
      "[I 2025-02-05 22:15:47,617] Trial 178 finished with value: 7.073016939192302e-05 and parameters: {'feature_weighting_width': 0.057379865262474884, 'period': 1.8814046651424707}. Best is trial 142 with value: 6.534783630918158e-06.\n",
      "[I 2025-02-05 22:15:47,672] Trial 179 finished with value: 7.860860796252922e-06 and parameters: {'feature_weighting_width': 0.09101848290874999, 'period': 1.8804585398622033}. Best is trial 142 with value: 6.534783630918158e-06.\n",
      "[I 2025-02-05 22:15:47,736] Trial 180 finished with value: 5.7744181156683744e-05 and parameters: {'feature_weighting_width': 0.06903109754785508, 'period': 1.8796340433996546}. Best is trial 142 with value: 6.534783630918158e-06.\n",
      "[I 2025-02-05 22:15:47,812] Trial 181 finished with value: 8.246762704256223e-06 and parameters: {'feature_weighting_width': 0.04037922811908054, 'period': 1.8803210619066362}. Best is trial 142 with value: 6.534783630918158e-06.\n",
      "[I 2025-02-05 22:15:47,877] Trial 182 finished with value: 9.056371773361661e-06 and parameters: {'feature_weighting_width': 0.002231456995085304, 'period': 1.880281973130412}. Best is trial 142 with value: 6.534783630918158e-06.\n",
      "[I 2025-02-05 22:15:47,960] Trial 183 finished with value: 2.5530005773633875e-05 and parameters: {'feature_weighting_width': 0.047509177929293184, 'period': 1.8809747573434037}. Best is trial 142 with value: 6.534783630918158e-06.\n",
      "[I 2025-02-05 22:15:48,018] Trial 184 finished with value: 2.5991285676999657e-05 and parameters: {'feature_weighting_width': 0.027243656208094665, 'period': 1.879952021986388}. Best is trial 142 with value: 6.534783630918158e-06.\n",
      "[I 2025-02-05 22:15:48,097] Trial 185 finished with value: 7.288687960081695e-06 and parameters: {'feature_weighting_width': 0.07112376463271679, 'period': 1.880490877611609}. Best is trial 142 with value: 6.534783630918158e-06.\n",
      "[I 2025-02-05 22:15:48,187] Trial 186 finished with value: 0.00011658164096599781 and parameters: {'feature_weighting_width': 0.10362954336598695, 'period': 1.8792463087032054}. Best is trial 142 with value: 6.534783630918158e-06.\n",
      "[I 2025-02-05 22:15:48,288] Trial 187 finished with value: 1.1026630904304542e-05 and parameters: {'feature_weighting_width': 0.07439223522971364, 'period': 1.8806934061264455}. Best is trial 142 with value: 6.534783630918158e-06.\n",
      "[I 2025-02-05 22:15:48,394] Trial 188 finished with value: 7.305862662557817e-05 and parameters: {'feature_weighting_width': 0.07107010515457649, 'period': 1.881420270419891}. Best is trial 142 with value: 6.534783630918158e-06.\n",
      "[I 2025-02-05 22:15:48,448] Trial 189 finished with value: 4.5721769269860396e-05 and parameters: {'feature_weighting_width': 0.13838348501244088, 'period': 1.8797993091765872}. Best is trial 142 with value: 6.534783630918158e-06.\n",
      "[I 2025-02-05 22:15:48,512] Trial 190 finished with value: 3.564188793393119e-05 and parameters: {'feature_weighting_width': 0.02475865719845702, 'period': 1.8810989483926062}. Best is trial 142 with value: 6.534783630918158e-06.\n",
      "[I 2025-02-05 22:15:48,568] Trial 191 finished with value: 7.207816196667469e-06 and parameters: {'feature_weighting_width': 0.05083726774473053, 'period': 1.8803973261719371}. Best is trial 142 with value: 6.534783630918158e-06.\n",
      "[I 2025-02-05 22:15:48,618] Trial 192 finished with value: 0.0017078504441591729 and parameters: {'feature_weighting_width': 0.4561619962141079, 'period': 1.8805291920941396}. Best is trial 142 with value: 6.534783630918158e-06.\n",
      "[I 2025-02-05 22:15:48,692] Trial 193 finished with value: 1.6232704971214132e-05 and parameters: {'feature_weighting_width': 0.05805442623701945, 'period': 1.8801114738886697}. Best is trial 142 with value: 6.534783630918158e-06.\n",
      "[I 2025-02-05 22:15:48,747] Trial 194 finished with value: 1.2921900650968727e-05 and parameters: {'feature_weighting_width': 0.0940771073590559, 'period': 1.8807284938536957}. Best is trial 142 with value: 6.534783630918158e-06.\n",
      "[I 2025-02-05 22:15:48,807] Trial 195 finished with value: 9.017592029452889e-06 and parameters: {'feature_weighting_width': 0.037652451917627935, 'period': 1.8802873281786783}. Best is trial 142 with value: 6.534783630918158e-06.\n",
      "[I 2025-02-05 22:15:48,882] Trial 196 finished with value: 7.776227356189601e-05 and parameters: {'feature_weighting_width': 0.015853282260912142, 'period': 1.879479381675451}. Best is trial 142 with value: 6.534783630918158e-06.\n",
      "[I 2025-02-05 22:15:48,982] Trial 197 finished with value: 3.6861607529051885e-05 and parameters: {'feature_weighting_width': 0.06422894548102895, 'period': 1.8811075486401265}. Best is trial 142 with value: 6.534783630918158e-06.\n",
      "[I 2025-02-05 22:15:49,142] Trial 198 finished with value: 0.00012333381865625807 and parameters: {'feature_weighting_width': 0.044588619609242736, 'period': 1.8817354909624755}. Best is trial 142 with value: 6.534783630918158e-06.\n",
      "[I 2025-02-05 22:15:49,213] Trial 199 finished with value: 2.7635017303889863e-05 and parameters: {'feature_weighting_width': 0.08341135480455361, 'period': 1.879942591867569}. Best is trial 142 with value: 6.534783630918158e-06.\n"
     ]
    }
   ],
   "source": [
    "joint_ = {'feature_weighting_width': [0.001,1,'uniform'], 'period': [1.87,1.89,'uniform']}\n",
    "joint_tuner = Tuner(fwls, hyperpars=joint_, n_trials=200, direction='minimize')\n",
    "joint_tuner.run_tune(data.predictors, data.targets)"
   ]
  },
  {
   "cell_type": "code",
   "execution_count": 5,
   "id": "918e7f0b",
   "metadata": {},
   "outputs": [
    {
     "name": "stdout",
     "output_type": "stream",
     "text": [
      "Tuner:\n",
      " feature_weighting_width: 0.015975673894171132\n",
      "period: 1.8804699755526824\n"
     ]
    }
   ],
   "source": [
    "print(joint_tuner)"
   ]
  },
  {
   "cell_type": "code",
   "execution_count": 6,
   "id": "fea71ab4",
   "metadata": {},
   "outputs": [],
   "source": [
    "fwls.set_X_kwargs(update=True, **joint_tuner.best_hyperpars)\n",
    "fwls.set_X_train(data.predictors)\n",
    "fwls.train(data.targets)"
   ]
  },
  {
   "cell_type": "markdown",
   "id": "65676136",
   "metadata": {},
   "source": [
    "## Optimal model \n",
    "At this point, we have our __optimal__ model. Now, we want to determine how robust this model is. Normally, if we are using an ordinary or weighted least-squares regressor, we can use the standard errors formula to get confidence intervals on our model coefficients. However, the feature weighting that we've introduced prevents us from doing so because it _biases_ our model. Instead, we have to use sampling methods. To do this, __puffins__ has three methods for estimating the uncertainties on regression coefficients. \n",
    "\n",
    "These three methods are: i) __jackknifing__, ii) __Monte Carlo__ simulations, and iii) __Markov Chain Monte Carlo__ simulations."
   ]
  },
  {
   "cell_type": "markdown",
   "id": "6ec85df0",
   "metadata": {},
   "source": [
    "## Jack-knifing\n",
    "\n",
    "Broadly speaking, __jackknifing__ is a method of resampling our data to get an empirical estimate of the variance of model parameters. There are several _flavours_ of jackknifing that we can use, with slight differences in their applications. \n",
    "\n",
    "First, we have traditional jackknifing, or __delete-1 jackknifing__, also known as __Leave-One-Out Cross-Validation__ (LOOCV). LOOCV entails systematically deleting one data-point at a time and re-running the model fit to the remaining data, then estimating the variance with the following formula:\n",
    "\n",
    "$\\widehat{Var}_{LOOCV} = \\frac{n-1}{n} \\sum_{i=1}^n \\left( \\hat{\\theta}_{i} - \\bar{\\theta} \\right)^2$, \n",
    "\n",
    "where $n$ is the number of datapoints, $\\theta$ is the j-dimensional estimator (model parameter vector or statistic), and $\\bar{\\theta}$ is the average value of $\\theta$ across all $i$ jackknife iterations ([Efron & Tibshirani, 1993](https://www.cambridge.org/core/journals/psychometrika/article/abs/b-efron-and-r-j-tibshirani-1993-an-introduction-to-the-bootstrap-new-york-chapman-hall-xvi-436-pp-isbn-04120423t2-5000/D7CC806A82BF7AA651C2BBF745D58017)).\n",
    "\n",
    "For large $n$ datasets, doing a full LOOCV run might be computationally prohibitive. In light of that, clever statisticians have developed other versions of jackknifing that account for removing $d$ points at a time. This form of jackknifing is creatively referred to as __delete-d jackknifing__. The variance from delete-d jackknifing is given by:\n",
    "\n",
    "$\\widehat{Var}_{DdJK} = \\frac{n-d}{d \\dot m} \\sum_{i=1}^m \\left( \\hat{\\theta}_{i} - \\bar{\\theta} \\right)^2$, \n",
    "\n",
    "where $d$ is the number of data points that we delete per iteration, and $m$ is the total number of ways that we can delete $d$ out of $n$ datapoints, e.g. $\\binom{n}{d}$ ([Shao & Tu, 1995](https://link.springer.com/book/10.1007/978-1-4612-0795-5)). Alternatively, if $m$ is prohibitively large, one can take a sufficiently large $\\tilde{m}$ that enables the estimator to be a reasonable representation the resulting parameter space.\n",
    "\n",
    "Again, $m=\\binom{n}{d}$ might be a prohibitively large number of iterations to run depending on your dataset, so we now come to __Grouped Jackknifing__. In __Grouped Jackknifing__, we split the data evenly into G groups and refit our model to each Group. The variance for __Grouped Jackknifing__ is given by:\n",
    "\n",
    "$\\widehat{Var}_{GJK} = \\frac{G-1}{G} \\sum_{i=1}^G \\left( \\hat{\\theta}_{i} - \\bar{\\theta} \\right)^2$, \n",
    "\n",
    "Where G is the number of groups ([Miller, 1964](https://www.jstor.org/stable/2238296)).\n",
    "\n",
    "In all cases, we can construct confidence intervals (CIs) using the standard formulae drawing critical values from either a Normal or t-score distribution.\n",
    "\n",
    "### A comment on the construction of confidence intervals\n",
    "\n",
    "While in the case of large n datasets the critical values for the t-disribution converges to the Normal distribution, in the case of smaller $n$ the t-distribution has much larger tails to reflect the uncertainty of using fewer datapoints. As such, the critical value for 95% CIs is given as $\\approx2.26$ for a t-distribution and $\\approx1.96$ for small n, resulting in larger CIs when using the t-distribution. \n"
   ]
  },
  {
   "cell_type": "markdown",
   "id": "eb1a2a98",
   "metadata": {},
   "source": [
    "## Monte Carlo simulations\n",
    "\n",
    "__Monte Carlo__ simulations offer a way of empirically estimating the variance of model parameters by repeatedly sampling your data under some assumptions. At each simulation or realisation of the data, you re-fit your model and then analyse the resulting distribution of your model parameters. This approach is particularly useful when analytical variance calculations are difficult or even inappropriate due to non-linearity in your  model, or non-Normally distributed uncertainties on your data. In this use case, we follow the implementation from the [Numerical Recipes in C textbook](https://www.cec.uchile.cl/cinetica/pcordero/MC_libros/NumericalRecipesinC.pdf).\n"
   ]
  },
  {
   "cell_type": "markdown",
   "id": "5cfef1f0",
   "metadata": {},
   "source": [
    "## Markov Chain Monte Carlo\n",
    "\n",
    "Taking this one step further, we can wrap our model into a Bayesian framework, whereby we assume that we have some _prior_ knowledge of our model parameters that we want to incorporate into our analysis. Bayes' theorem is given by:\n",
    "\n",
    "$P\\left( \\theta | d \\right) = \\frac{ P\\left( d | \\theta \\right) P\\left( \\theta \\right) }{ P\\left( d \\right)}$, \n",
    "\n",
    "where $d$ is our data, $\\theta$ are our model parameters that we want make inferences of, $P\\left( \\theta \\right)$ is the prior information on our model parameters, $P\\left( d | \\theta \\right)$ is the likelihood function (sometimes written as $\\mathcal{L}\\left( d | \\theta \\right)$), $P\\left( \\theta | d \\right)$ is the posterior distribution of our model parameters, and  $P\\left( d \\right)$ is effectively a normalisation factor. In plain words, the likelihood function is a way of estimating how likely the data are, given, or assuming a generative model with parameters $\\mathcal{M}\\left( \\theta \\right)$, while our posterior distribution is a represenation of how likely a given set of parameters $\\theta$ is, given the data $d$. In our case, the likelihood function is the OLS, Ridge regression, or FWLS.\n",
    "\n",
    "Technically, if both your data and model are well behaved, there is an analytical solution to this. However, in reality, this is seldom the case. Instead, there is a whole industry that develops numerical sampling methods to approximate the posterior distribution! In this code, we make use of the Affine Invariant Ensemble Sampler emcee ([Foreman-Mackey et al., 2013](https://arxiv.org/abs/1202.3665)).\n",
    "\n",
    "We derive empirical confidence intervals from the data in the form of $\\alpha$% Highest Posterior Density intervals."
   ]
  },
  {
   "cell_type": "markdown",
   "id": "d5bff34f",
   "metadata": {},
   "source": [
    "## Comparison\n",
    "\n",
    "__puffins__ allows for the user to instantiate an UncertaintyEstimator class and use any or all of the methods described above to estimate parameter variances and confidence intervals! Below, we'll run a Grouped Jackknife example, a Monte Carlo example, and a Markov Chain Monte Carlo (MCMC) example."
   ]
  },
  {
   "cell_type": "code",
   "execution_count": 7,
   "id": "7dbcb83b",
   "metadata": {},
   "outputs": [],
   "source": [
    "esimator = UncertaintyEstimator(data, fwls)"
   ]
  },
  {
   "cell_type": "code",
   "execution_count": 8,
   "id": "eb490b4d",
   "metadata": {},
   "outputs": [
    {
     "name": "stderr",
     "output_type": "stream",
     "text": [
      "Grouped Jackkinfe Sampling: 100%|██████████| 50/50 [00:03<00:00, 13.97it/s]\n"
     ]
    }
   ],
   "source": [
    "## Grouped Jackknife\n",
    "n_groups = 50\n",
    "n_delete = 5000# 15000/n_groups\n",
    "gjk = esimator.run_grouped_jackknife_sampling(n_groups=n_groups, n_delete=n_delete)"
   ]
  },
  {
   "cell_type": "code",
   "execution_count": null,
   "id": "c3beb362",
   "metadata": {},
   "outputs": [
    {
     "name": "stderr",
     "output_type": "stream",
     "text": [
      "Delete-d Jackkinfe Sampling:  30%|███       | 302/1000 [00:12<00:22, 30.88it/s]"
     ]
    }
   ],
   "source": [
    "## Delete-d Jackknife\n",
    "n_groups = 1000\n",
    "n_delete = 8000\n",
    "ddjk = esimator.run_delete_d_jackknife_sampling(n_groups=n_groups, n_delete=n_delete)"
   ]
  },
  {
   "cell_type": "code",
   "execution_count": null,
   "id": "ab24f6f9",
   "metadata": {},
   "outputs": [],
   "source": [
    "## Monte Carlo\n",
    "mcs = esimator.run_monte_carlo_sampling(target_uncertainties=abs(flux_err),n_samples=1000)"
   ]
  },
  {
   "cell_type": "code",
   "execution_count": 11,
   "id": "95f4dd9e",
   "metadata": {},
   "outputs": [],
   "source": [
    "## Markov Chain Monte Carlo\n",
    "\n",
    "## It's like 95% implemented, I just haven't pushed it yet."
   ]
  },
  {
   "cell_type": "code",
   "execution_count": 12,
   "id": "8f498baa",
   "metadata": {},
   "outputs": [],
   "source": [
    "def get_delete_d_jk_var( \n",
    "                        n_data: int,\n",
    "                        estimators: np.ndarray, \n",
    "                        n_groups: int,\n",
    "                        n_delete: int, \n",
    "                       )-> np.ndarray:\n",
    "    mean_ = np.mean(estimators, axis=0)\n",
    "    lead = (n_data-n_delete)/(n_delete*n_groups)\n",
    "    var_ = lead * np.nansum((estimators - mean_)**2, axis=0)\n",
    "    return var_"
   ]
  },
  {
   "cell_type": "code",
   "execution_count": null,
   "id": "76aea60e",
   "metadata": {},
   "outputs": [],
   "source": []
  },
  {
   "cell_type": "code",
   "execution_count": null,
   "id": "acf65c7e",
   "metadata": {},
   "outputs": [],
   "source": [
    "import arviz as az\n",
    "\n",
    "fig, axes = plt.subplots(4, 1, figsize=(4, 12))\n",
    "\n",
    "# Extract the relevant coefficients\n",
    "gjk_coefs = gjk['sampled_coefs'][:, 1:5]\n",
    "mcs_coefs = mcs['sampled_coefs'][:, 1:5]\n",
    "ddjk_coefs = ddjk['sampled_coefs'][:, 1:5]\n",
    "\n",
    "for i in range(4):\n",
    "    az.plot_density([gjk_coefs[:, i], mcs_coefs[:,i], ddjk_coefs[:,i] ], ax=axes[i], colors=['darkorange', 'dodgerblue','firebrick'], data_labels=['G-JK', 'MC','DD-JK'], hdi_prob=0.95)\n",
    "    axes[i].set_xticklabels([f'{x:.4g}' for x in axes[i].get_xticks()])\n",
    "    axes[i].tick_params(axis='x', rotation=45)\n",
    "plt.show()"
   ]
  },
  {
   "cell_type": "markdown",
   "id": "f0248c97",
   "metadata": {},
   "source": [
    "We can see from this that the Grouped Jackknife results in the smallest errors, the Delete-d has a larger distribution of parameter values, and the Monte Carlo simulations have larger errors. Of course in this case, the uncertainties on the data that we used are synthetic, but this pattern will generally hold as we'll see with another example."
   ]
  },
  {
   "cell_type": "code",
   "execution_count": null,
   "id": "97f07a4a",
   "metadata": {},
   "outputs": [],
   "source": [
    "import seaborn as sns\n",
    "\n",
    "mcs_standard_betas = abs(mcs['coefs_mean'][1:]) / np.sqrt(mcs['coefs_var'][1:])\n",
    "gjk_standard_betas = abs(gjk['coefs_mean'][1:]) / np.sqrt(gjk['coefs_var'][1:])\n",
    "ddjk_standard_betas = abs(ddjk['coefs_mean'][1:]) / np.sqrt(ddjk['coefs_var'][1:])\n",
    "\n",
    "plt.figure(figsize=(10, 6))\n",
    "sns.histplot(mcs_standard_betas, bins=range(0,50), fill=False, hatch='//', kde=False)\n",
    "sns.histplot(gjk_standard_betas, bins=range(0,50), fill=False, hatch='\\\\', kde=False)\n",
    "sns.histplot(ddjk_standard_betas, bins=range(0,50), fill=False, hatch='||', kde=False)\n",
    "\n",
    "plt.axvline(3, color='red', linestyle='--')\n",
    "plt.title('KDE of Standard Betas')\n",
    "plt.xlabel('Standard Betas')\n",
    "plt.ylabel('Density')\n",
    "plt.show()"
   ]
  },
  {
   "cell_type": "markdown",
   "id": "f1ba0d7e",
   "metadata": {},
   "source": [
    "Finally, here we see that __most__ of the regression coefficients are insignificant at the $3-\\sigma$ level no matter how you calculate your $\\mathrm{Var}\\left(\\beta\\right)$'s. We could use this information to remove the \"insignificant\" coefficients, or we can leave them in knowing that the feature weighting is going to make these coefficients not have a significant contribution to the model anyways. \n",
    "\n",
    "One of the major benefits of doing an analysis of this is that we can propagate the uncertainties to our predictions, which we'll do below."
   ]
  },
  {
   "cell_type": "code",
   "execution_count": null,
   "id": "39b670b5",
   "metadata": {},
   "outputs": [],
   "source": [
    "fig, axes = plt.subplots(3, 1, figsize=(4, 12))\n",
    "\n",
    "gjk_predict = fwls.predict(np.linspace(0, 2*period, 1000), coefficients=gjk['sampled_coefs'])\n",
    "mcs_predict = fwls.predict(np.linspace(0, 2*period, 1000), coefficients=mcs['sampled_coefs'])\n",
    "ddjk_predict = fwls.predict(np.linspace(0, 2*period, 1000), coefficients=ddjk['sampled_coefs'])"
   ]
  }
 ],
 "metadata": {
  "kernelspec": {
   "display_name": "nominal",
   "language": "python",
   "name": "python3"
  },
  "language_info": {
   "codemirror_mode": {
    "name": "ipython",
    "version": 3
   },
   "file_extension": ".py",
   "mimetype": "text/x-python",
   "name": "python",
   "nbconvert_exporter": "python",
   "pygments_lexer": "ipython3",
   "version": "3.12.7"
  }
 },
 "nbformat": 4,
 "nbformat_minor": 5
}
